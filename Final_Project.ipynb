{
 "cells": [
  {
   "cell_type": "markdown",
   "metadata": {},
   "source": [
    "Names: Guy Cohen, Shahar Amram\n",
    "\n",
    "IDs: 206463606, 205457898\n",
    "\n",
    "### The objective of this assignment is to develop a predictive model using the AdaBoost algorithm to determine whether a patient has heart disease or not. We have a dataset containing various features related to patients, and based on these features, we will train an AdaBoost classifier to make accurate predictions."
   ]
  },
  {
   "cell_type": "code",
   "execution_count": 1598,
   "metadata": {},
   "outputs": [],
   "source": [
    "import pandas as pd\n",
    "import numpy as np\n",
    "from sklearn.preprocessing import StandardScaler\n",
    "import seaborn as sns\n",
    "import matplotlib.pyplot as plt\n",
    "from sklearn.model_selection import train_test_split\n",
    "from sklearn.ensemble import AdaBoostClassifier\n",
    "from sklearn.metrics import accuracy_score\n",
    "\n",
    "# Load the csv file.\n",
    "def load_data():\n",
    "    data = pd.read_csv(\"heart_disease.csv\")\n",
    "    return data\n",
    "    # Shuffle the data.\n",
    "    # shuffled_data = data.sample(frac=1).reset_index(drop=True)\n",
    "    # return shuffled_data\n",
    "\n",
    "# Standardize the data.\n",
    "# def standardize(data):\n",
    "#     # Seperate the feateres in 'x' and 'target' in y\n",
    "#     x = data.drop([\"target\"],axis = 1)\n",
    "#     y = data[\"target\"]\n",
    "#     # normalize\n",
    "#     scaler = StandardScaler()\n",
    "#     X = scaler.fit_transform(x)\n",
    "#     X = np.clip(X,-3,3)\n",
    "#     return X, y\n",
    "\n",
    "\n",
    "# Standardize the data.\n",
    "def standardize(data):\n",
    "    # Seperate the feateres in 'x' and 'target' in y\n",
    "    x = data.drop([\"target\"],axis = 1)\n",
    "    y = data[\"target\"]\n",
    "    # normalize\n",
    "    x_mean = np.mean(x,axis=0)\n",
    "    x_std = np.std(x,axis=0)\n",
    "    x_std[x_std == 0] = 1e-8\n",
    "    x=(x-x_mean)/x_std\n",
    "    x[x > 3] = 3\n",
    "    x[x < -3] = -3\n",
    "    scaler = StandardScaler()\n",
    "    x = scaler.fit_transform(x)\n",
    "    return x, y\n",
    "\n",
    "# plot the data.\n",
    "def plot_data(data):\n",
    "    X = data.drop([\"target\"],axis = 1)\n",
    "    y = data[\"target\"]\n",
    "    # Create a DataFrame from X and y\n",
    "    columns = data.columns.drop('target')\n",
    "    X_df = pd.DataFrame(X, columns=columns)\n",
    "    X_df['target'] = y\n",
    "    # Plot the data\n",
    "    plt.scatter(x=X_df.age[X_df.target == 1], y=X_df.thalach[X_df.target == 1], c=\"red\", s=10, linewidths=1.5)\n",
    "    plt.scatter(x=X_df.age[X_df.target == 0], y=X_df.thalach[X_df.target == 0], c=\"blue\" ,s=10, linewidths=2.5)\n",
    "    plt.legend([\"Disease\", \"Not Disease\"])\n",
    "    plt.xlabel(\"Age\")\n",
    "    plt.ylabel(\"Maximum Heart Rate\")\n",
    "    plt.title('Heart Disease Frequency for Ages')\n",
    "    plt.show()\n",
    "  \n",
    "    "
   ]
  },
  {
   "cell_type": "markdown",
   "metadata": {},
   "source": [
    "## AdaBoost model"
   ]
  },
  {
   "cell_type": "code",
   "execution_count": 1599,
   "metadata": {},
   "outputs": [],
   "source": [
    "# Dicison stump with one node\n",
    "class DecisionStump():\n",
    "    #  Initializes the attributes of the DecisionStump object.\n",
    "    def __init__(self):\n",
    "        # positive or negative.\n",
    "        self.polarity = 1\n",
    "        # the index of the feature on which the decision stump will be based.\n",
    "        self.feature_idx = None\n",
    "        # the threshold value used to make the decision.\n",
    "        self.threshold = None\n",
    "        # Alpha is the learning rate (expert).\n",
    "        self.alpha = None\n",
    "\n",
    "\n",
    "# Algoorithm adaboost.\n",
    "class Adaboost():\n",
    "    # Initializes the attributes of the Adaboost object.\n",
    "    def __init__(self, n_clf=50):\n",
    "        # Number of stumps\n",
    "        self.n_clf = n_clf\n",
    "\n",
    "    def fit(self, X, y):\n",
    "        n_samples, n_features = X.shape\n",
    "        \"\"\"\n",
    "        n_samples = m\n",
    "        n_features = n\n",
    "        \"\"\"\n",
    "        # Initialize weights to 1/N\n",
    "        w = np.full(n_samples, (1 / n_samples))\n",
    "\n",
    "        self.clfs = [] \n",
    "\n",
    "        # Iterate through classifiers\n",
    "        for _ in range(self.n_clf):\n",
    "            # Initialize the minimum error as infinity.\n",
    "            min_error = float('inf')\n",
    "            clf = DecisionStump()\n",
    "\n",
    "            # Find the best h_t that minimizes the error, according to the weights, W_i_t.\n",
    "            for feature_i in range(n_features):\n",
    "                # Features vector\n",
    "                X_column = X[:, feature_i]\n",
    "\n",
    "                thresholds = np.unique(X_column,axis=None)\n",
    "\n",
    "                for threshold in thresholds:\n",
    "                    # Predict with polarity 1\n",
    "                    p = 1\n",
    "                    h_t = np.ones_like(y)\n",
    "\n",
    "                    # If it smaller than threshold => -1\n",
    "                    h_t[X_column <= threshold] = -1\n",
    "\n",
    "                    # Error = sum of weights that h_t wrong.\n",
    "                    error = np.sum(w[h_t != y])\n",
    "\n",
    "                    if error > 0.5:\n",
    "                        error = 1 - error\n",
    "                        p = -1\n",
    "\n",
    "                    # Store the best configuration -> Store the smallest error.\n",
    "                    if error < min_error:\n",
    "                        clf.polarity = p\n",
    "                        clf.threshold = threshold\n",
    "                        clf.feature_idx = feature_i\n",
    "                        min_error = error\n",
    "\n",
    "            # Calculate alpha: the amount of samples that h_t got wrong\n",
    "            clf.alpha = 0.5 * np.log((1 - min_error) / min_error + 1e-10)\n",
    "\n",
    "            # Initialzie the h-t\n",
    "            h_t = np.full_like(y,clf.polarity)\n",
    "\n",
    "            # Update the h-t according to the threshold\n",
    "            h_t[X[:,clf.feature_idx] <= clf.threshold] *= -1\n",
    "\n",
    "            # Update the weight in place (t+1), the new one\n",
    "            w *= np.exp(-clf.alpha * y * h_t)\n",
    "\n",
    "            # Wi(t+1)= Wi(t+1)/(sigma(Wi(t+1))), normalizing of Wi(t+1) -> The sum of weights is 1.\n",
    "            Z = np.sum(w , axis=None)\n",
    "            w /= Z\n",
    "\n",
    "            # Add each stump to the list of classifiers\n",
    "            self.clfs.append(clf)\n",
    "            \n",
    "\n",
    "\n",
    "    # H(x) = sign(alpha_1 * h_1(x) + alpha_2 * h_2(x) + ... + alpha_t * h_t(x))\n",
    "    def predict(self, X):\n",
    "        # Initializes an array H of zeros with the same number of rows as the input data X.\n",
    "        H = np.zeros((X.shape[0],))\n",
    "        # For each stump\n",
    "        for i in self.clfs:\n",
    "            # Initializes an array _h_t with the same shape as H, filled with the polarity value of the current weak classifier i\n",
    "            _h_t = np.full((X.shape[0],), i.polarity)\n",
    "            # For each sample in x\n",
    "            for j in range(X.shape[0]):\n",
    "                #  If the feature value of the current data point is less than or equal to the threshold\n",
    "                if X[j, i.feature_idx] <= i.threshold:\n",
    "                    _h_t[j] *= -1\n",
    "            # Updates the array H\n",
    "            H += i.alpha * _h_t\n",
    "        # Returns the sign of the array H\n",
    "        return np.sign(H)\n",
    "\n"
   ]
  },
  {
   "cell_type": "markdown",
   "metadata": {},
   "source": [
    "## Loading and Displaying Data"
   ]
  },
  {
   "cell_type": "code",
   "execution_count": 1600,
   "metadata": {},
   "outputs": [
    {
     "data": {
      "text/html": [
       "<div>\n",
       "<style scoped>\n",
       "    .dataframe tbody tr th:only-of-type {\n",
       "        vertical-align: middle;\n",
       "    }\n",
       "\n",
       "    .dataframe tbody tr th {\n",
       "        vertical-align: top;\n",
       "    }\n",
       "\n",
       "    .dataframe thead th {\n",
       "        text-align: right;\n",
       "    }\n",
       "</style>\n",
       "<table border=\"1\" class=\"dataframe\">\n",
       "  <thead>\n",
       "    <tr style=\"text-align: right;\">\n",
       "      <th></th>\n",
       "      <th>age</th>\n",
       "      <th>sex</th>\n",
       "      <th>cp</th>\n",
       "      <th>trestbps</th>\n",
       "      <th>chol</th>\n",
       "      <th>fbs</th>\n",
       "      <th>restecg</th>\n",
       "      <th>thalach</th>\n",
       "      <th>exang</th>\n",
       "      <th>oldpeak</th>\n",
       "      <th>slope</th>\n",
       "      <th>ca</th>\n",
       "      <th>thal</th>\n",
       "      <th>target</th>\n",
       "    </tr>\n",
       "  </thead>\n",
       "  <tbody>\n",
       "    <tr>\n",
       "      <th>0</th>\n",
       "      <td>52</td>\n",
       "      <td>1</td>\n",
       "      <td>0</td>\n",
       "      <td>125</td>\n",
       "      <td>212</td>\n",
       "      <td>0</td>\n",
       "      <td>1</td>\n",
       "      <td>168</td>\n",
       "      <td>0</td>\n",
       "      <td>1.0</td>\n",
       "      <td>2</td>\n",
       "      <td>2</td>\n",
       "      <td>3</td>\n",
       "      <td>0</td>\n",
       "    </tr>\n",
       "    <tr>\n",
       "      <th>1</th>\n",
       "      <td>53</td>\n",
       "      <td>1</td>\n",
       "      <td>0</td>\n",
       "      <td>140</td>\n",
       "      <td>203</td>\n",
       "      <td>1</td>\n",
       "      <td>0</td>\n",
       "      <td>155</td>\n",
       "      <td>1</td>\n",
       "      <td>3.1</td>\n",
       "      <td>0</td>\n",
       "      <td>0</td>\n",
       "      <td>3</td>\n",
       "      <td>0</td>\n",
       "    </tr>\n",
       "    <tr>\n",
       "      <th>2</th>\n",
       "      <td>70</td>\n",
       "      <td>1</td>\n",
       "      <td>0</td>\n",
       "      <td>145</td>\n",
       "      <td>174</td>\n",
       "      <td>0</td>\n",
       "      <td>1</td>\n",
       "      <td>125</td>\n",
       "      <td>1</td>\n",
       "      <td>2.6</td>\n",
       "      <td>0</td>\n",
       "      <td>0</td>\n",
       "      <td>3</td>\n",
       "      <td>0</td>\n",
       "    </tr>\n",
       "    <tr>\n",
       "      <th>3</th>\n",
       "      <td>61</td>\n",
       "      <td>1</td>\n",
       "      <td>0</td>\n",
       "      <td>148</td>\n",
       "      <td>203</td>\n",
       "      <td>0</td>\n",
       "      <td>1</td>\n",
       "      <td>161</td>\n",
       "      <td>0</td>\n",
       "      <td>0.0</td>\n",
       "      <td>2</td>\n",
       "      <td>1</td>\n",
       "      <td>3</td>\n",
       "      <td>0</td>\n",
       "    </tr>\n",
       "    <tr>\n",
       "      <th>4</th>\n",
       "      <td>62</td>\n",
       "      <td>0</td>\n",
       "      <td>0</td>\n",
       "      <td>138</td>\n",
       "      <td>294</td>\n",
       "      <td>1</td>\n",
       "      <td>1</td>\n",
       "      <td>106</td>\n",
       "      <td>0</td>\n",
       "      <td>1.9</td>\n",
       "      <td>1</td>\n",
       "      <td>3</td>\n",
       "      <td>2</td>\n",
       "      <td>0</td>\n",
       "    </tr>\n",
       "  </tbody>\n",
       "</table>\n",
       "</div>"
      ],
      "text/plain": [
       "   age  sex  cp  trestbps  chol  fbs  restecg  thalach  exang  oldpeak  slope   \n",
       "0   52    1   0       125   212    0        1      168      0      1.0      2  \\\n",
       "1   53    1   0       140   203    1        0      155      1      3.1      0   \n",
       "2   70    1   0       145   174    0        1      125      1      2.6      0   \n",
       "3   61    1   0       148   203    0        1      161      0      0.0      2   \n",
       "4   62    0   0       138   294    1        1      106      0      1.9      1   \n",
       "\n",
       "   ca  thal  target  \n",
       "0   2     3       0  \n",
       "1   0     3       0  \n",
       "2   0     3       0  \n",
       "3   1     3       0  \n",
       "4   3     2       0  "
      ]
     },
     "execution_count": 1600,
     "metadata": {},
     "output_type": "execute_result"
    }
   ],
   "source": [
    "data = load_data()\n",
    "data.head()\n"
   ]
  },
  {
   "cell_type": "code",
   "execution_count": 1601,
   "metadata": {},
   "outputs": [
    {
     "data": {
      "image/png": "[encoded data removed]",
      "text/plain": [
       "<Figure size 640x480 with 1 Axes>"
      ]
     },
     "metadata": {},
     "output_type": "display_data"
    }
   ],
   "source": [
    "plot_data(data)\n"
   ]
  },
  {
   "cell_type": "code",
   "execution_count": 1602,
   "metadata": {},
   "outputs": [
    {
     "name": "stdout",
     "output_type": "stream",
     "text": [
      "X means:  -6.665504087805818e-19\n",
      "X stds:  1.0\n"
     ]
    }
   ],
   "source": [
    "# Standardize the data.\n",
    "X, y = standardize(data)\n",
    "\n",
    "# Check that the data is normalized correctly\n",
    "print(\"X means: \", np.mean(X) )\n",
    "print(\"X stds: \", np.std(X) )\n",
    "\n",
    "# Make a copy of y and change values from 0 to -1\n",
    "y_copy = y.copy()\n",
    "y_copy[y_copy == 0] = -1\n",
    "\n",
    "# 20% from the data will be used for test\n",
    "train_x, test_x, train_y, test_y = train_test_split(X, y_copy, test_size = 0.2)\n",
    "train_x1 = train_x\n",
    "test_x1 = test_x\n",
    "train_y1 = train_y\n",
    "test_y1 = test_y\n"
   ]
  },
  {
   "cell_type": "markdown",
   "metadata": {},
   "source": [
    "# AdaBoost"
   ]
  },
  {
   "cell_type": "code",
   "execution_count": 1603,
   "metadata": {},
   "outputs": [
    {
     "name": "stdout",
     "output_type": "stream",
     "text": [
      "Test Accuracy of Adaboost Algorithm: 86.34%\n",
      "sklearn AdaBoost Accuracy: 0.8878048780487805\n"
     ]
    }
   ],
   "source": [
    "\n",
    "# Calling the model Adaboost that we created\n",
    "clf = Adaboost(n_clf = 50)\n",
    "clf.fit(train_x, train_y)\n",
    "y_pred = clf.predict(test_x)\n",
    "acc = accuracy_score(test_y, y_pred) * 100\n",
    "print(\"Test Accuracy of Adaboost Algorithm: {:.2f}%\".format(acc))\n",
    "\n",
    "\n",
    "# Built-in AdaBoost\n",
    "clf_sklearn = AdaBoostClassifier(n_estimators=50)\n",
    "clf_sklearn.fit(train_x, train_y)\n",
    "y_pred_sklearn = clf_sklearn.predict(test_x)\n",
    "acc_sklearn = accuracy_score(test_y, y_pred_sklearn)\n",
    "print(\"sklearn AdaBoost Accuracy:\", acc_sklearn)\n",
    "accuracies={}\n",
    "accuracies['Adaboost'] = acc"
   ]
  },
  {
   "cell_type": "markdown",
   "metadata": {},
   "source": [
    "# KNN"
   ]
  },
  {
   "cell_type": "code",
   "execution_count": 1604,
   "metadata": {},
   "outputs": [
    {
     "name": "stdout",
     "output_type": "stream",
     "text": [
      "Test Score of KNN: 83.90%\n"
     ]
    }
   ],
   "source": [
    "# KNN Model\n",
    "from sklearn.neighbors import KNeighborsClassifier\n",
    "knn = KNeighborsClassifier(n_neighbors = 8)  \n",
    "knn.fit(train_x1, train_y1)\n",
    "prediction = knn.predict(test_x1)\n",
    "acc = knn.score(test_x1, test_y1) * 100\n",
    "\n",
    "print(\"Test Score of KNN: {:.2f}%\".format(acc))"
   ]
  },
  {
   "cell_type": "markdown",
   "metadata": {},
   "source": [
    "## Compare between Adaboost and KNN"
   ]
  },
  {
   "cell_type": "code",
   "execution_count": 1605,
   "metadata": {},
   "outputs": [
    {
     "data": {
      "image/png": "[encoded data removed]",
      "text/plain": [
       "<Figure size 1600x500 with 1 Axes>"
      ]
     },
     "metadata": {},
     "output_type": "display_data"
    }
   ],
   "source": [
    "import seaborn as sns\n",
    "colors = [\"purple\", \"green\"]\n",
    "\n",
    "sns.set_style(\"whitegrid\")\n",
    "plt.figure(figsize=(16,5))\n",
    "plt.yticks(np.arange(0,100,10))\n",
    "plt.ylabel(\"Accuracy %\")\n",
    "plt.xlabel(\"Algorithms\")\n",
    "sns.barplot(x=list(accuracies.keys()), y=list(accuracies.values()), palette=colors)\n",
    "plt.show()"
   ]
  },
  {
   "cell_type": "markdown",
   "metadata": {},
   "source": [
    "Influence of parameters on the data"
   ]
  },
  {
   "cell_type": "code",
   "execution_count": null,
   "metadata": {},
   "outputs": [],
   "source": []
  }
 ],
 "metadata": {
  "kernelspec": {
   "display_name": "Python 3",
   "language": "python",
   "name": "python3"
  },
  "language_info": {
   "codemirror_mode": {
    "name": "ipython",
    "version": 3
   },
   "file_extension": ".py",
   "mimetype": "text/x-python",
   "name": "python",
   "nbconvert_exporter": "python",
   "pygments_lexer": "ipython3",
   "version": "3.11.3"
  },
  "orig_nbformat": 4
 },
 "nbformat": 4,
 "nbformat_minor": 2
}
